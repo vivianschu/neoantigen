{
 "cells": [
  {
   "cell_type": "code",
   "execution_count": null,
   "metadata": {},
   "outputs": [],
   "source": [
    "import os\n",
    "import pandas as pd\n",
    "import numpy as np\n",
    "from scipy import stats\n",
    "import matplotlib.pyplot as plt\n",
    "from matplotlib_venn import venn2\n",
    "from pyopenms import *\n",
    "import pandas as pd\n",
    "import subprocess\n",
    "import os"
   ]
  },
  {
   "cell_type": "code",
   "execution_count": null,
   "metadata": {},
   "outputs": [],
   "source": [
    "# Define directories\n",
    "raw_data_dir = \"/home/vivian.chu/vivian-sandbox/neoantigens/ms_raw\"\n",
    "results_dir = \"processed_results\"\n",
    "\n",
    "# Create results directory if it doesn't exist\n",
    "os.makedirs(results_dir, exist_ok=True)\n",
    "\n",
    "# List all files in the raw data directory\n",
    "all_files = os.listdir(raw_data_dir)\n",
    "\n",
    "# Filter for relevant .raw and .mgf files\n",
    "raw_files = [f for f in all_files if f.endswith('.raw')]\n",
    "mgf_files = [f for f in all_files if f.endswith('.mgf')]"
   ]
  },
  {
   "cell_type": "code",
   "execution_count": null,
   "metadata": {},
   "outputs": [],
   "source": [
    "print(\"Raw Files:\", raw_files)\n",
    "print(\"MGF Files:\", mgf_files)"
   ]
  },
  {
   "cell_type": "code",
   "execution_count": null,
   "metadata": {},
   "outputs": [],
   "source": [
    "# Function to process raw files using PyOpenMS\n",
    "def process_raw_data(file_path):\n",
    "    \"\"\"\n",
    "    Process raw files using PyOpenMS.\n",
    "    Extracts spectra and chromatographic data and returns as a DataFrame.\n",
    "    \"\"\"\n",
    "    print(f\"Processing raw file: {file_path}\")\n",
    "\n",
    "    # Load the raw data\n",
    "    exp = MSExperiment()\n",
    "    MzMLFile().load(file_path, exp)\n",
    "\n",
    "    # Extract spectrum data\n",
    "    spectra_data = []\n",
    "    for spectrum in exp:\n",
    "        if spectrum.getMSLevel() == 1:  # MS1 spectra (precursor ion scan)\n",
    "            mz = spectrum.get_peaks()[0]  # Mass-to-charge ratios\n",
    "            intensity = spectrum.get_peaks()[1]  # Intensities\n",
    "            for m, i in zip(mz, intensity):\n",
    "                spectra_data.append({\"m/z\": m, \"intensity\": i, \"scan_index\": spectrum.getNativeID()})\n",
    "    \n",
    "    # Convert to DataFrame\n",
    "    df = pd.DataFrame(spectra_data)\n",
    "    print(f\"Extracted {len(df)} peaks from raw file: {file_path}\")\n",
    "    return df"
   ]
  },
  {
   "cell_type": "code",
   "execution_count": null,
   "metadata": {},
   "outputs": [],
   "source": [
    "# Process the converted mzML file\n",
    "raw_data = process_raw_data(mzml_file)\n",
    "raw_data.head()"
   ]
  },
  {
   "cell_type": "code",
   "execution_count": null,
   "metadata": {},
   "outputs": [],
   "source": [
    "# Function to process mgf files using PyOpenMS\n",
    "def process_mgf_data(file_path):\n",
    "    \"\"\"\n",
    "    Process MGF files using PyOpenMS.\n",
    "    Extracts MS/MS data and returns as a DataFrame.\n",
    "    \"\"\"\n",
    "    print(f\"Processing MGF file: {file_path}\")\n",
    "\n",
    "    # Load the MGF data\n",
    "    exp = MSExperiment()\n",
    "    MzMLFile().load(file_path, exp)\n",
    "\n",
    "    # Extract MS/MS data\n",
    "    msms_data = []\n",
    "    for spectrum in exp:\n",
    "        if spectrum.getMSLevel() == 2:  # MS2 spectra (fragment ion scan)\n",
    "            mz = spectrum.get_peaks()[0]  # Mass-to-charge ratios\n",
    "            intensity = spectrum.get_peaks()[1]  # Intensities\n",
    "            precursor_mz = spectrum.getPrecursors()[0].getMZ() if spectrum.getPrecursors() else None\n",
    "            for m, i in zip(mz, intensity):\n",
    "                msms_data.append({\n",
    "                    \"precursor_m/z\": precursor_mz,\n",
    "                    \"fragment_m/z\": m,\n",
    "                    \"intensity\": i,\n",
    "                    \"scan_index\": spectrum.getNativeID()\n",
    "                })\n",
    "    \n",
    "    # Convert to DataFrame\n",
    "    df = pd.DataFrame(msms_data)\n",
    "    print(f\"Extracted {len(df)} fragments from MGF file: {file_path}\")\n",
    "    return df"
   ]
  },
  {
   "cell_type": "code",
   "execution_count": null,
   "metadata": {},
   "outputs": [],
   "source": [
    "# Example usage for a raw file\n",
    "raw_file_path = \"/home/vivian.chu/vivian-sandbox/neoantigens/ms_raw/B-ALL_MAE_fresh_2M_1.raw\"\n",
    "raw_data = process_raw_data(raw_file_path)\n",
    "raw_data.head()\n",
    "# raw_data.to_csv(\"processed_raw_data.csv\", index=False)"
   ]
  },
  {
   "cell_type": "code",
   "execution_count": null,
   "metadata": {},
   "outputs": [],
   "source": [
    "# Example usage for an mgf file\n",
    "mgf_file_path = \"/home/vivian.chu/vivian-sandbox/neoantigens/ms_raw/B-ALL_MAE_fresh_2M_1.mgf\"\n",
    "mgf_data = process_mgf_data(mgf_file_path)\n",
    "mgf_data.to_csv(\"processed_mgf_data.csv\", index=False)"
   ]
  },
  {
   "cell_type": "code",
   "execution_count": null,
   "metadata": {},
   "outputs": [],
   "source": [
    "# Function to normalize peak areas\n",
    "def normalize_peaks(df, condition_column=\"Condition\", peak_column=\"PeakArea\"):\n",
    "    \"\"\"\n",
    "    Normalize peak areas by condition.\n",
    "    \"\"\"\n",
    "    df[peak_column] = df.groupby(condition_column)[peak_column].apply(lambda x: x / x.median())\n",
    "    return df\n",
    "\n",
    "# Example criteria for filtering peptides\n",
    "criteria = {\n",
    "    \"fdr\": 0.05,\n",
    "    \"min_length\": 8,\n",
    "    \"max_length\": 15,\n",
    "    \"maf\": 0.05\n",
    "}\n",
    "\n",
    "# Function to filter peptides\n",
    "def filter_peptides(peptides_df, criteria):\n",
    "    \"\"\"\n",
    "    Filter peptides based on given criteria.\n",
    "    \"\"\"\n",
    "    filtered_peptides = peptides_df[\n",
    "        (peptides_df['FDR'] <= criteria['fdr']) &\n",
    "        (peptides_df['Length'].between(criteria['min_length'], criteria['max_length'])) &\n",
    "        (peptides_df['MAF'] >= criteria['maf'])\n",
    "    ]\n",
    "    return filtered_peptides\n",
    "\n",
    "# Example visualization for peptide overlap\n",
    "def visualize_peptide_overlap(set1, set2, label1, label2):\n",
    "    \"\"\"\n",
    "    Visualize overlap between two peptide sets.\n",
    "    \"\"\"\n",
    "    venn = venn2([set(set1), set(set2)], (label1, label2))\n",
    "    plt.title(\"Peptide Overlap\")\n",
    "    plt.show()\n",
    "\n",
    "# Example usage of visualization\n",
    "# (Replace with real peptide sets)\n",
    "visualize_peptide_overlap([\"peptide1\", \"peptide2\"], [\"peptide2\", \"peptide3\"], \"Set A\", \"Set B\")\n",
    "\n",
    "print(\"Processing complete. Results are saved in\", results_dir)"
   ]
  }
 ],
 "metadata": {
  "kernelspec": {
   "display_name": "neo",
   "language": "python",
   "name": "python3"
  },
  "language_info": {
   "codemirror_mode": {
    "name": "ipython",
    "version": 3
   },
   "file_extension": ".py",
   "mimetype": "text/x-python",
   "name": "python",
   "nbconvert_exporter": "python",
   "pygments_lexer": "ipython3",
   "version": "3.10.15"
  }
 },
 "nbformat": 4,
 "nbformat_minor": 2
}
